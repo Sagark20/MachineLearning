{
 "cells": [
  {
   "cell_type": "raw",
   "metadata": {},
   "source": [
    "Problem 1.1 \n",
    "Write a Python Program(with class concepts) to find the area of the triangle using the below formula.\n",
    "area = (s*(s-a)*(s-b)*(s-c)) ** 0.5\n",
    "Function to take the length of the sides of triangle from user should be defined in the parent class and function to calculate the area should be defined in subclass."
   ]
  },
  {
   "cell_type": "code",
   "execution_count": 9,
   "metadata": {},
   "outputs": [
    {
     "name": "stdout",
     "output_type": "stream",
     "text": [
      "Enter side a : 2\n",
      "Enter side b : 3\n",
      "Enter side c : 4\n",
      "Area of Triangle :  2.9047375096555625\n"
     ]
    }
   ],
   "source": [
    "class Shape():\n",
    "    def __init__(self, a, b, c):\n",
    "        self.a = a\n",
    "        self.b = b\n",
    "        self.c = c\n",
    "        \n",
    "class Triangle(Shape):\n",
    "    def __init__(self,*args):\n",
    "        super(Triangle, self).__init__(*args)\n",
    "        \n",
    "    def calc_area(self):\n",
    "        s = (self.a + self.b + self.c)/2\n",
    "        return (s*(s-self.a)*(s-self.b)*(s-self.c)) ** 0.5\n",
    "        \n",
    "a = float(input(\"Enter side a : \"))\n",
    "b = float(input(\"Enter side b : \"))\n",
    "c = float(input(\"Enter side c : \"))\n",
    "\n",
    "t1 = Triangle(a,b,c)\n",
    "print(\"Area of Triangle : \", t1.calc_area())"
   ]
  },
  {
   "cell_type": "raw",
   "metadata": {},
   "source": [
    "Problem 1.2 \n",
    "Write a function filter_long_words() that takes a list of words and an integer n and returns the list of words that are longer than n."
   ]
  },
  {
   "cell_type": "code",
   "execution_count": 10,
   "metadata": {},
   "outputs": [
    {
     "data": {
      "text/plain": [
       "['asd', 'wererwe', 'rere', 'fdsfdsfsd', 'reree']"
      ]
     },
     "execution_count": 10,
     "metadata": {},
     "output_type": "execute_result"
    }
   ],
   "source": [
    "def filter_long_words(list_data, n):\n",
    "    op_list = []\n",
    "    for word in list_data:\n",
    "        if(len(word) > 2):\n",
    "            op_list.append(word)\n",
    "    return op_list\n",
    "\n",
    "list_data = [\"asd\",\"wererwe\",\"sa\",\"rere\",\"fdsfdsfsd\",\"reree\"]\n",
    "filter_long_words(list_data, 3)"
   ]
  },
  {
   "cell_type": "raw",
   "metadata": {},
   "source": [
    "Problem 2.1 \n",
    "Write a Python program using function concept that maps list of words into a list of integers representing the lengths of the corresponding words. Hint: If a list [ ab,cde,erty] is passed on to the python function output should come as [2,3,4] Here 2,3 and 4 are the lengths of the words in the list."
   ]
  },
  {
   "cell_type": "code",
   "execution_count": 11,
   "metadata": {},
   "outputs": [
    {
     "data": {
      "text/plain": [
       "[3, 7, 2, 4, 9, 5]"
      ]
     },
     "execution_count": 11,
     "metadata": {},
     "output_type": "execute_result"
    }
   ],
   "source": [
    "def map_list_to_int(list_data):\n",
    "    op_list = []\n",
    "    for word in list_data:\n",
    "        op_list.append(len(word))\n",
    "    return op_list\n",
    "\n",
    "list_data = [\"asd\",\"wererwe\",\"sa\",\"rere\",\"fdsfdsfsd\",\"reree\"]\n",
    "map_list_to_int(list_data)"
   ]
  },
  {
   "cell_type": "raw",
   "metadata": {},
   "source": [
    "Problem 2.2 \n",
    "Write a Python function which takes a character (i.e. a string of length 1) and returns True if it is a vowel, False otherwise."
   ]
  },
  {
   "cell_type": "code",
   "execution_count": 12,
   "metadata": {},
   "outputs": [
    {
     "name": "stdout",
     "output_type": "stream",
     "text": [
      "Enter Character : A\n"
     ]
    },
    {
     "data": {
      "text/plain": [
       "True"
      ]
     },
     "execution_count": 12,
     "metadata": {},
     "output_type": "execute_result"
    }
   ],
   "source": [
    "def check_vowel():\n",
    "    ch = input(\"Enter Character : \")[0]\n",
    "    if(\"aeiouAEIOU\".find(ch)>=0):\n",
    "        return True\n",
    "    else:\n",
    "        return False\n",
    "\n",
    "check_vowel()"
   ]
  },
  {
   "cell_type": "code",
   "execution_count": null,
   "metadata": {},
   "outputs": [],
   "source": []
  }
 ],
 "metadata": {
  "kernelspec": {
   "display_name": "Python 3",
   "language": "python",
   "name": "python3"
  },
  "language_info": {
   "codemirror_mode": {
    "name": "ipython",
    "version": 3
   },
   "file_extension": ".py",
   "mimetype": "text/x-python",
   "name": "python",
   "nbconvert_exporter": "python",
   "pygments_lexer": "ipython3",
   "version": "3.7.4"
  }
 },
 "nbformat": 4,
 "nbformat_minor": 2
}
